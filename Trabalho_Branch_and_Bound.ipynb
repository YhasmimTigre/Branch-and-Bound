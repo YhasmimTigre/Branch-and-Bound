{
  "cells": [
    {
      "attachments": {},
      "cell_type": "markdown",
      "metadata": {
        "id": "mZySrJ7nVsOa"
      },
      "source": [
        "# Trabalho Final - Pesquisa Operacional <br>\n",
        "## Aplicando Branch-and-Bound\n",
        "\n",
        "\n",
        "Alunos:<br>\n",
        "    João Victor Soares Silva, mat.: 20210027300 <br>\n",
        "    Yhasmim de Souza Tigre, mat.: 20210026966 \n"
      ]
    },
    {
      "attachments": {},
      "cell_type": "markdown",
      "metadata": {
        "id": "68-GKxLmWLSR"
      },
      "source": [
        "Implementação:"
      ]
    },
    {
      "cell_type": "code",
      "execution_count": 1,
      "metadata": {
        "id": "C2PXPCVcWwmC"
      },
      "outputs": [],
      "source": [
        "#Bibliotecas\n",
        "from mip import (CBC, CONTINUOUS, MAXIMIZE, Model, xsum, OptimizationStatus)\n",
        "from pandas import DataFrame"
      ]
    },
    {
      "cell_type": "code",
      "execution_count": 2,
      "metadata": {},
      "outputs": [],
      "source": [
        "''' FUNÇÃO QUE APLICA ARQUIVO DE TEXTO EM MODELO\n",
        "           DE PROGRAMAÇÃO LINEAR INTEIRA'''\n",
        "\n",
        "def modelo(arquivo: str):\n",
        "\n",
        "    #lendo arquivo de texto\n",
        "    arquivo = open(arquivo, 'r')\n",
        "\n",
        "    #lendo as linhas do arquivo\n",
        "    linhas = arquivo.readlines()\n",
        "    \n",
        "    #separando variáveis de restrições\n",
        "    num_v = int(linhas[0].split()[0])\n",
        "    num_r = int(linhas[0].split()[1])    \n",
        "\n",
        "    arquivo.close()\n",
        "\n",
        "    #criando modelo\n",
        "    model = Model(sense = MAXIMIZE, solver_name = CBC)\n",
        "\n",
        "    #criando variáveis\n",
        "    x = [model.add_var( var_type=CONTINUOUS, lb=0.0, ub=1.0,\n",
        "         name=\"x_\"+str(i)) for i in range(num_v)]   \n",
        "        \n",
        "    #função objetivo    \n",
        "    obj = [float(i) for i in linhas[1].split()]\n",
        "    model.objective = xsum(obj[i]*x[i] for i in range(num_v)) \n",
        "\n",
        "    #adicionando os coeficientes    \n",
        "    for c in range (2, num_r+1):\n",
        "      coefientes = []\n",
        "      for i in range(num_v + 1):\n",
        "        coe = float(linhas[c].split()[i])\n",
        "        coefientes.append(coe)\n",
        "\n",
        "      #cria as restrições\n",
        "      model += xsum(coefientes[i]*x[i] for i in range(num_v)) <= coefientes[-1] \n",
        "\n",
        "    #diminuindo o tamanho do print\n",
        "    model.verbose = 0\n",
        "\n",
        "    return model"
      ]
    },
    {
      "cell_type": "code",
      "execution_count": 3,
      "metadata": {},
      "outputs": [],
      "source": [
        "''' CLASSE DE CADA NÓ DO ALGORITMO QUE CONTÉM CADA MODELO'''\n",
        "\n",
        "class No:\n",
        "    def __init__ (self, modelo : Model):\n",
        "        self.modelo = modelo\n",
        "\n",
        "        #otimiza o modelo assim que cria o nó\n",
        "        self.modelo.optimize()\n",
        "        \n",
        "        #salva o valor da função objetivo\n",
        "        self.Z = self.modelo.objective_value"
      ]
    },
    {
      "cell_type": "code",
      "execution_count": 5,
      "metadata": {},
      "outputs": [],
      "source": [
        "'''FUNCOES DE PODAGEM DE NÓS'''\n",
        "\n",
        "#Testa se o nó pode ser podado por limitante:\n",
        "def podar_limite (lim_primal : float, Z : int):\n",
        "    if Z <= lim_primal:\n",
        "        return True\n",
        "    else:\n",
        "        return False\n",
        "\n",
        "#Testa se o nó pode ser podado por integralidade:\n",
        "def podar_integral (modelo : Model):\n",
        "    for var in modelo.vars:\n",
        "        if var.x % 1 != 0:\n",
        "            return False\n",
        "\n",
        "    return True   \n",
        "\n",
        "#Testa se o nó pode ser podado por inviabilidade:\n",
        "def podar_inviavel (modelo : Model):\n",
        "\n",
        "    #Inviável:\n",
        "    if modelo.status == OptimizationStatus.INFEASIBLE:\n",
        "        return True\n",
        "    \n",
        "    #Não encontrou soluções:\n",
        "    elif modelo.status == OptimizationStatus.NO_SOLUTION_FOUND:\n",
        "        return True\n",
        "    \n",
        "    else:\n",
        "        return False"
      ]
    },
    {
      "cell_type": "code",
      "execution_count": 6,
      "metadata": {},
      "outputs": [],
      "source": [
        "'''FUNÇÃO PARA IMPRIMIR O RESULTADO DE UM MODELO'''\n",
        "\n",
        "def print_resultado (otimo : Model):\n",
        "    lista_dados = []\n",
        "\n",
        "    print (f\"Resultado da otimização: {otimo.objective_value}\\n\")\n",
        "    print (\"Valor das Variáveis:\")\n",
        "    \n",
        "    for var in otimo.vars:\n",
        "        lista_dados.append([var.name, var.x])\n",
        "    \n",
        "    saida = DataFrame(data = lista_dados, columns = ['Variável', 'Valor'])\n",
        "    print (saida.to_string(index = False))\n",
        "\n",
        "    return"
      ]
    },
    {
      "cell_type": "code",
      "execution_count": 7,
      "metadata": {},
      "outputs": [],
      "source": [
        "'''GERA OS DOIS NÓS FILHOS DO ALGORITMO A PARTIR DA VARIÁVEL MAIS PRÓXIMA DE 0,5'''\n",
        "\n",
        "def passar_no (pai : No):\n",
        "\n",
        "    dif_abs = 1\n",
        "    for var in pai.modelo.vars:\n",
        "        if abs (0.5 - var.x) <= dif_abs:\n",
        "            dif_abs = abs (0.5 - var.x)\n",
        "            v_escolhida = var.name\n",
        "\n",
        "    #cria os modelos filhos\n",
        "    modelo_0 = pai.modelo.copy()\n",
        "    modelo_1 = pai.modelo.copy()\n",
        "\n",
        "    modelo_0.verbose = 0\n",
        "    modelo_1.verbose = 0\n",
        "\n",
        "    #nova restrição\n",
        "    modelo_0 += modelo_0.vars[v_escolhida] == 0\n",
        "    modelo_1 += modelo_1.vars[v_escolhida] == 1 \n",
        "\n",
        "    no_0 = No(modelo_0)\n",
        "    no_1 = No(modelo_1)\n",
        "\n",
        "    return no_0, no_1"
      ]
    },
    {
      "cell_type": "code",
      "execution_count": 15,
      "metadata": {},
      "outputs": [],
      "source": [
        "'''CLASSE DO ALGORITMO, COM FUNÇÃO DE EXECUÇÃO:'''\n",
        "\n",
        "class Branch_and_Bound:\n",
        "    def __init__ (self, no_modelo : No):\n",
        "        self.no_modelo = no_modelo\n",
        "    \n",
        "    #Executa o algoritmo de Branch and Bound utilizando uma busca em largura:\n",
        "    def executar_branch_and_bound (self):\n",
        "        lim_primal = float('-inf')\n",
        "        fila_modelos = [self.no_modelo]\n",
        "        solucao = \"Não foram encontradas soluções.\"\n",
        "\n",
        "        #será interado enquanto houverem nós na fila:\n",
        "        while len (fila_modelos):\n",
        "            no_atual = fila_modelos[0] #no\n",
        "\n",
        "            #Referenciando podagens:\n",
        "\n",
        "            if podar_inviavel(no_atual.modelo):\n",
        "                del fila_modelos[0]\n",
        "                continue\n",
        "            \n",
        "            if podar_integral(no_atual.modelo):\n",
        "                if lim_primal <= no_atual.Z:\n",
        "                    lim_primal = no_atual.Z\n",
        "                    solucao = no_atual.modelo\n",
        "                del fila_modelos[0]\n",
        "                continue\n",
        "            \n",
        "            if podar_limite (lim_primal, no_atual.Z):\n",
        "                del fila_modelos[0]\n",
        "                continue\n",
        "            \n",
        "            #passa o nó atual para a função que gera os nós filhos:\n",
        "            no_0, no_1 = passar_no(no_atual)\n",
        "            fila_modelos.append(no_0)\n",
        "            fila_modelos.append(no_1)\n",
        "            del fila_modelos[0]\n",
        "        \n",
        "        print_resultado(solucao)"
      ]
    },
    {
      "cell_type": "code",
      "execution_count": 16,
      "metadata": {},
      "outputs": [],
      "source": [
        "'''TESTES DE EXECUÇÃO'''\n",
        "\n",
        "teste_1 = No(modelo('./testes/teste1.txt'))\n",
        "teste_2 = No(modelo('./testes/teste2.txt'))\n",
        "teste_3 = No(modelo('./testes/teste3.txt'))\n",
        "teste_4 = No(modelo('./testes/teste4.txt'))"
      ]
    },
    {
      "cell_type": "code",
      "execution_count": 22,
      "metadata": {},
      "outputs": [],
      "source": [
        "'''INSTANCIANDO O ALGORITMO'''\n",
        "\n",
        "BaB_1 = Branch_and_Bound(teste_1)\n",
        "BaB_2 = Branch_and_Bound(teste_2)\n",
        "BaB_3 = Branch_and_Bound(teste_3)\n",
        "BaB_4 = Branch_and_Bound(teste_4)"
      ]
    },
    {
      "cell_type": "code",
      "execution_count": 23,
      "metadata": {},
      "outputs": [
        {
          "name": "stdout",
          "output_type": "stream",
          "text": [
            "Resultado da otimização: 20.0\n",
            "\n",
            "Valor das Variáveis:\n",
            "Variável  Valor\n",
            "     x_0    0.0\n",
            "     x_1    1.0\n",
            "     x_2    0.0\n",
            "     x_3    0.0\n",
            "     x_4    1.0\n",
            "     x_5    0.0\n",
            "     x_6    0.0\n"
          ]
        }
      ],
      "source": [
        "BaB_1.executar_branch_and_bound()"
      ]
    },
    {
      "cell_type": "code",
      "execution_count": 24,
      "metadata": {},
      "outputs": [
        {
          "name": "stdout",
          "output_type": "stream",
          "text": [
            "Resultado da otimização: 24.0\n",
            "\n",
            "Valor das Variáveis:\n",
            "Variável  Valor\n",
            "     x_0    0.0\n",
            "     x_1    1.0\n",
            "     x_2    0.0\n",
            "     x_3    0.0\n",
            "     x_4    0.0\n",
            "     x_5    1.0\n",
            "     x_6    1.0\n",
            "     x_7    0.0\n",
            "     x_8    0.0\n"
          ]
        }
      ],
      "source": [
        "BaB_2.executar_branch_and_bound()"
      ]
    },
    {
      "cell_type": "code",
      "execution_count": 25,
      "metadata": {},
      "outputs": [
        {
          "name": "stdout",
          "output_type": "stream",
          "text": [
            "Resultado da otimização: 19.0\n",
            "\n",
            "Valor das Variáveis:\n",
            "Variável  Valor\n",
            "     x_0    0.0\n",
            "     x_1    0.0\n",
            "     x_2    1.0\n",
            "     x_3    0.0\n",
            "     x_4    0.0\n",
            "     x_5    0.0\n",
            "     x_6    1.0\n",
            "     x_7    0.0\n",
            "     x_8    0.0\n"
          ]
        }
      ],
      "source": [
        "BaB_3.executar_branch_and_bound()"
      ]
    },
    {
      "cell_type": "code",
      "execution_count": 26,
      "metadata": {},
      "outputs": [
        {
          "name": "stdout",
          "output_type": "stream",
          "text": [
            "Resultado da otimização: 10.0\n",
            "\n",
            "Valor das Variáveis:\n",
            "Variável  Valor\n",
            "     x_0    0.0\n",
            "     x_1    0.0\n",
            "     x_2    1.0\n",
            "     x_3    0.0\n",
            "     x_4    0.0\n",
            "     x_5    0.0\n",
            "     x_6    0.0\n",
            "     x_7    0.0\n",
            "     x_8    0.0\n"
          ]
        }
      ],
      "source": [
        "BaB_4.executar_branch_and_bound()"
      ]
    }
  ],
  "metadata": {
    "colab": {
      "provenance": []
    },
    "kernelspec": {
      "display_name": "Python 3",
      "name": "python3"
    },
    "language_info": {
      "codemirror_mode": {
        "name": "ipython",
        "version": 3
      },
      "file_extension": ".py",
      "mimetype": "text/x-python",
      "name": "python",
      "nbconvert_exporter": "python",
      "pygments_lexer": "ipython3",
      "version": "3.9.5"
    }
  },
  "nbformat": 4,
  "nbformat_minor": 0
}
