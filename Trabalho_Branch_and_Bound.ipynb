{
  "cells": [
    {
      "attachments": {},
      "cell_type": "markdown",
      "metadata": {
        "id": "mZySrJ7nVsOa"
      },{
  "cells": [
    {
      "attachments": {},
      "cell_type": "markdown",
      "metadata": {
        "id": "mZySrJ7nVsOa"
      },
      "source": [
        "# Trabalho Final - Pesquisa Operacional <br>\n",
        "## Aplicando Branch-and-Bound\n",
        "\n",
        "\n",
        "Alunos:<br>\n",
        "    João Victor Soares Silva, mat.: 20210027300 <br>\n",
        "    Yhasmim de Souza Tigre, mat.: 20210026966 \n"
      ]
    },
    {
      "attachments": {},
      "cell_type": "markdown",
      "metadata": {
        "id": "68-GKxLmWLSR"
      },
      "source": [
        "Implementação:"
      ]
    },
    {
      "cell_type": "code",
      "execution_count": 335,
      "metadata": {
        "id": "C2PXPCVcWwmC"
      },
      "outputs": [],
      "source": [
        "from mip import (CBC, CONTINUOUS, MAXIMIZE, Model, xsum, OptimizationStatus)\n",
        "from pandas import DataFrame"
      ]
    },
    {
      "attachments": {},
      "cell_type": "markdown",
      "metadata": {
        "id": "QJyIKtGrYAAO"
      },
      "source": [
        " A funcao objetivo sera de maximizacao e todas as restricoes serao de “menor ou igual”\n",
        "\n",
        "O codigo de voces deve ramificar em torno da variavel xj cujo valor seja\n",
        "fracionario e mais proximo de 0,5. Em um filho, adiciona-se a restricao xj = 1; no outro, a restricao xj = 0\n",
        "\n",
        "Vamos usar Busca em Largura"
      ]
    },
    {
      "attachments": {},
      "cell_type": "markdown",
      "metadata": {
        "id": "ot9tbVsJZMzA"
      },
      "source": [
        "* Executar\n",
        "* Testar se as variáveis são binárias\n",
        "* Caso não sejam: percorrer as variáveis e montar uma lista com as variáveis não binárias\n",
        "* Pegar a variável mais próxima de 0,5 e formar mais dois modelos  filhos\n",
        "\n",
        "* Quando encontrar uma solução inteira, guardar para comparar nos próximos modelos filhos (limite dual)"
      ]
    },
    {
      "cell_type": "code",
      "execution_count": 336,
      "metadata": {},
      "outputs": [],
      "source": [
        "''' fUNÇÃO QUE APLICA ARQUIVO DE TEXTO EM MODELO\n",
        "           DE PROGRAMAÇÃO LINEAR INTEIRA'''\n",
        "\n",
        "def modelo(arquivo: str):\n",
        "\n",
        "    #lendo arquivo de texto\n",
        "    arquivo = open(arquivo, 'r')\n",
        "\n",
        "    #lendo as linhas do arquivo\n",
        "    linhas = arquivo.readlines()\n",
        "    \n",
        "    #separando variáveis de restrições\n",
        "    num_v = int(linhas[0].split()[0])\n",
        "    num_r = int(linhas[0].split()[1])    \n",
        "\n",
        "    arquivo.close()\n",
        "\n",
        "    #criando modelo\n",
        "    model = Model(sense = MAXIMIZE, solver_name = CBC)\n",
        "\n",
        "    #criando variáveis\n",
        "    x = [model.add_var( var_type=CONTINUOUS, lb=0.0, ub=1.0,\n",
        "         name=\"x_\"+str(i)) for i in range(num_v)]   \n",
        "        \n",
        "    #função objetivo    \n",
        "    obj = [float(i) for i in linhas[1].split()]\n",
        "    model.objective = xsum(obj[i]*x[i] for i in range(num_v)) \n",
        "\n",
        "    #adicionando os coeficientes    \n",
        "    for c in range (2, num_r+1):\n",
        "      coefientes = []\n",
        "      for i in range(num_v + 1):\n",
        "        coe = float(linhas[c].split()[i])\n",
        "        coefientes.append(coe)\n",
        "    \n",
        "      model += xsum(coefientes[i]*x[i] for i in range(num_v)) <= coefientes[-1] \n",
        "\n",
        "    #diminuindo o tamanho do print\n",
        "    model.verbose = 0\n",
        "\n",
        "    return model"
      ]
    },
    {
      "attachments": {},
      "cell_type": "markdown",
      "metadata": {},
      "source": [
        "Criando a busca"
      ]
    },
    {
      "cell_type": "code",
      "execution_count": 337,
      "metadata": {},
      "outputs": [],
      "source": [
        "#Classe de cada nó do algoritmo, que contém cada modelo:\n",
        "class No:\n",
        "    def __init__ (self, modelo : Model):\n",
        "        self.modelo = modelo\n",
        "        self.modelo.optimize()\n",
        "        self.Z = self.modelo.objective_value"
      ]
    },
    {
      "cell_type": "code",
      "execution_count": 338,
      "metadata": {},
      "outputs": [],
      "source": [
        "#Classe de cada problema, que contém suas informações:\n",
        "class info_problema:\n",
        "    def __init__ (self, lim_primal : float = float('-inf')):\n",
        "        self.lim_primal = lim_primal"
      ]
    },
    {
      "cell_type": "code",
      "execution_count": 339,
      "metadata": {},
      "outputs": [],
      "source": [
        "#Testa se o nó pode ser podado por limitante:\n",
        "def podar_limite (lim_primal : float, Z : int):\n",
        "    if Z <= lim_primal:\n",
        "        return True\n",
        "    else:\n",
        "        return False\n",
        "\n",
        "#Testa se o nó pode ser podado por integralidade:\n",
        "def podar_integral (modelo : Model):\n",
        "    for var in modelo.vars:\n",
        "        if var.x % 1 != 0:\n",
        "            return False\n",
        "\n",
        "    return True   \n",
        "\n",
        "#Testa se o nó pode ser podado por inviabilidade:\n",
        "def podar_inviavel (modelo : Model):\n",
        "\n",
        "    #Inviável:\n",
        "    if modelo.status == OptimizationStatus.INFEASIBLE:\n",
        "        return True\n",
        "    \n",
        "    #Não encontrou soluções:\n",
        "    elif modelo.status == OptimizationStatus.NO_SOLUTION_FOUND:\n",
        "        return True\n",
        "    \n",
        "    else:\n",
        "        return False"
      ]
    },
    {
      "cell_type": "code",
      "execution_count": 340,
      "metadata": {},
      "outputs": [],
      "source": [
        "#Função para imprimir o resultado de um modelo:\n",
        "def print_resultado (otimo : Model):\n",
        "    lista_dados = []\n",
        "\n",
        "    print (f\"Resultado da otimização: {otimo.objective_value}\\n\")\n",
        "    print (\"Valor das Variáveis:\")\n",
        "    \n",
        "    for var in otimo.vars:\n",
        "        lista_dados.append([var.name, var.x])\n",
        "    \n",
        "    saida = DataFrame(data = lista_dados, columns = ['Variável', 'Valor'])\n",
        "    print (saida.to_string(index = False))\n",
        "\n",
        "    return"
      ]
    },
    {
      "cell_type": "code",
      "execution_count": 341,
      "metadata": {},
      "outputs": [],
      "source": [
        "#Gera os dois nós filhos do algoritmo a partir da variável mais próxima de 0,5:\n",
        "def passar_no (pai : No):\n",
        "\n",
        "    dif_abs = 1\n",
        "    for var in pai.modelo.vars:\n",
        "        if abs (0.5 - var.x) <= dif_abs:\n",
        "            dif_abs = abs (0.5 - var.x)\n",
        "            v_escolhida = var.name\n",
        "\n",
        "    modelo_0 = pai.modelo.copy()\n",
        "    modelo_1 = pai.modelo.copy()\n",
        "\n",
        "    modelo_0.verbose = 0\n",
        "    modelo_1.verbose = 0\n",
        "\n",
        "    modelo_0 += modelo_0.vars[v_escolhida] == 0\n",
        "    modelo_1 += modelo_1.vars[v_escolhida] == 1 \n",
        "\n",
        "    no_0 = No(modelo_0)\n",
        "    no_1 = No(modelo_1)\n",
        "\n",
        "    return no_0, no_1"
      ]
    },
    {
      "cell_type": "code",
      "execution_count": 342,
      "metadata": {},
      "outputs": [],
      "source": [
        "#Classe do algoritmo, com funções auxiliares de organização e a de execução:\n",
        "class Branch_and_Bound:\n",
        "    def __init__ (self, no_modelo : No):\n",
        "        self.no_modelo = no_modelo\n",
        "    \n",
        "    #Executa o algoritmo de Branch and Bound utilizando uma busca em largura:\n",
        "    def executar_branch_and_bound (self):\n",
        "        controle = info_problema()\n",
        "        fila_modelos = [self.no_modelo]\n",
        "        solucao = \"Não foram encontradas soluções.\"\n",
        "\n",
        "        while len (fila_modelos):\n",
        "            no_atual = fila_modelos[0] #no\n",
        "\n",
        "            if podar_inviavel(no_atual.modelo):\n",
        "                del fila_modelos[0]\n",
        "                continue\n",
        "            \n",
        "            if podar_integral(no_atual.modelo):\n",
        "                if controle.lim_primal <= no_atual.Z:\n",
        "                    controle.lim_primal = no_atual.Z\n",
        "                    solucao = no_atual.modelo\n",
        "                del fila_modelos[0]\n",
        "                continue\n",
        "            \n",
        "            if podar_limite (controle.lim_primal, no_atual.Z):\n",
        "                del fila_modelos[0]\n",
        "                continue\n",
        "\n",
        "            no_0, no_1 = passar_no(no_atual)\n",
        "            fila_modelos.append(no_0)\n",
        "            fila_modelos.append(no_1)\n",
        "            del fila_modelos[0]\n",
        "        \n",
        "        print_resultado(solucao)"
      ]
    },
    {
      "cell_type": "code",
      "execution_count": 343,
      "metadata": {},
      "outputs": [],
      "source": [
        "teste_1 = No(modelo('./testes/teste1.txt'))\n",
        "teste_2 = No(modelo('./testes/teste2.txt'))\n",
        "teste_3 = No(modelo('./testes/teste3.txt'))\n",
        "teste_4 = No(modelo('./testes/teste4.txt'))"
      ]
    },
    {
      "cell_type": "code",
      "execution_count": 344,
      "metadata": {},
      "outputs": [],
      "source": [
        "BaB_1 = Branch_and_Bound(teste_1)\n",
        "BaB_2 = Branch_and_Bound(teste_2)\n",
        "BaB_3 = Branch_and_Bound(teste_3)\n",
        "BaB_4 = Branch_and_Bound(teste_4)"
      ]
    },
    {
      "cell_type": "code",
      "execution_count": 345,
      "metadata": {},
      "outputs": [
        {
          "name": "stdout",
          "output_type": "stream",
          "text": [
            "Resultado da otimização: 20.0\n",
            "\n",
            "Valor das Variáveis:\n",
            "Variável  Valor\n",
            "     x_0    0.0\n",
            "     x_1    1.0\n",
            "     x_2    0.0\n",
            "     x_3    0.0\n",
            "     x_4    1.0\n",
            "     x_5    0.0\n",
            "     x_6    0.0\n"
          ]
        }
      ],
      "source": [
        "BaB_1.executar_branch_and_bound()"
      ]
    },
    {
      "cell_type": "code",
      "execution_count": 346,
      "metadata": {},
      "outputs": [
        {
          "name": "stdout",
          "output_type": "stream",
          "text": [
            "Resultado da otimização: 24.0\n",
            "\n",
            "Valor das Variáveis:\n",
            "Variável  Valor\n",
            "     x_0    0.0\n",
            "     x_1    1.0\n",
            "     x_2    0.0\n",
            "     x_3    0.0\n",
            "     x_4    0.0\n",
            "     x_5    1.0\n",
            "     x_6    1.0\n",
            "     x_7    0.0\n",
            "     x_8    0.0\n"
          ]
        }
      ],
      "source": [
        "BaB_2.executar_branch_and_bound()"
      ]
    },
    {
      "cell_type": "code",
      "execution_count": 347,
      "metadata": {},
      "outputs": [
        {
          "name": "stdout",
          "output_type": "stream",
          "text": [
            "Resultado da otimização: 19.0\n",
            "\n",
            "Valor das Variáveis:\n",
            "Variável  Valor\n",
            "     x_0    0.0\n",
            "     x_1    0.0\n",
            "     x_2    1.0\n",
            "     x_3    0.0\n",
            "     x_4    0.0\n",
            "     x_5    0.0\n",
            "     x_6    1.0\n",
            "     x_7    0.0\n",
            "     x_8    0.0\n"
          ]
        }
      ],
      "source": [
        "BaB_3.executar_branch_and_bound()"
      ]
    },
    {
      "cell_type": "code",
      "execution_count": 348,
      "metadata": {},
      "outputs": [
        {
          "name": "stdout",
          "output_type": "stream",
          "text": [
            "Resultado da otimização: 10.0\n",
            "\n",
            "Valor das Variáveis:\n",
            "Variável  Valor\n",
            "     x_0    0.0\n",
            "     x_1    0.0\n",
            "     x_2    1.0\n",
            "     x_3    0.0\n",
            "     x_4    0.0\n",
            "     x_5    0.0\n",
            "     x_6    0.0\n",
            "     x_7    0.0\n",
            "     x_8    0.0\n"
          ]
        }
      ],
      "source": [
        "BaB_4.executar_branch_and_bound()"
      ]
    }
  ],
  "metadata": {
    "colab": {
      "provenance": []
    },
    "kernelspec": {
      "display_name": "Python 3",
      "name": "python3"
    },
    "language_info": {
      "codemirror_mode": {
        "name": "ipython",
        "version": 3
      },
      "file_extension": ".py",
      "mimetype": "text/x-python",
      "name": "python",
      "nbconvert_exporter": "python",
      "pygments_lexer": "ipython3",
      "version": "3.10.6"
    }
  },
  "nbformat": 4,
  "nbformat_minor": 0
}

      "source": [
        "# Trabalho Final - Pesquisa Operacional <br>\n",
        "## Aplicando Branch-and-Bound\n",
        "\n",
        "\n",
        "Alunos:<br>\n",
        "    João Victor Soares Silva, mat.: 20210027300 <br>\n",
        "    Yhasmim de Souza Tigre, mat.: 20210026966 \n"
      ]
    },
    {
      "attachments": {},
      "cell_type": "markdown",
      "metadata": {
        "id": "68-GKxLmWLSR"
      },
      "source": [
        "Implementação:"
      ]
    },
    {
      "cell_type": "code",
      "execution_count": 49,
      "metadata": {
        "id": "C2PXPCVcWwmC"
      },
      "outputs": [],
      "source": [
        "import mip \n",
        "from mip import (CBC, CONTINUOUS, MAXIMIZE, Model, xsum, OptimizationStatus)\n",
        "import numpy as np\n",
        "import pandas as pd\n",
        "import sys\n",
        "import math"
      ]
    },
    {
      "attachments": {},
      "cell_type": "markdown",
      "metadata": {
        "id": "QJyIKtGrYAAO"
      },
      "source": [
        " A funcao objetivo sera de maximizacao e todas as restricoes serao de “menor ou igual”\n",
        "\n",
        "O codigo de voces deve ramificar em torno da variavel xj cujo valor seja\n",
        "fracionario e mais proximo de 0,5. Em um filho, adiciona-se a restricao xj = 1; no outro, a restricao xj = 0\n",
        "\n",
        "Vamos usar Busca em Largura"
      ]
    },
    {
      "attachments": {},
      "cell_type": "markdown",
      "metadata": {
        "id": "ot9tbVsJZMzA"
      },
      "source": [
        "* Executar\n",
        "* Testar se as variáveis são binárias\n",
        "* Caso não sejam: percorrer as variáveis e montar uma lista com as variáveis não binárias\n",
        "* Pegar a variável mais próxima de 0,5 e formar mais dois modelos  filhos\n",
        "\n",
        "* Quando encontrar uma solução inteira, guardar para comparar nos próximos modelos filhos (limite dual)"
      ]
    },
    {
      "cell_type": "code",
      "execution_count": 50,
      "metadata": {},
      "outputs": [],
      "source": [
        "''' fUNÇÃO QUE APLICA ARQUIVO DE TEXTO EM MODELO\n",
        "           DE PROGRAMAÇÃO LINEAR INTEIRA'''\n",
        "\n",
        "def modelo(arquivo: str):\n",
        "\n",
        "    #lendo arquivo de texto\n",
        "    arquivo = open(arquivo, 'r')\n",
        "\n",
        "    #lendo as linhas do arquivo\n",
        "    linhas = arquivo.readlines()\n",
        "    \n",
        "    #separando variáveis de restrições\n",
        "    num_v = int(linhas[0].split()[0])\n",
        "    num_r = int(linhas[0].split()[1])    \n",
        "\n",
        "    arquivo.close()\n",
        "\n",
        "    #criando modelo\n",
        "    model = Model(sense=MAXIMIZE, solver_name=CBC)\n",
        "\n",
        "    #criando variáveis\n",
        "    x = [model.add_var( var_type=CONTINUOUS, lb=0.0, ub=1.0,\n",
        "         name=\"x_\"+str(i)) for i in range(num_v + 1)]   \n",
        "        \n",
        "    #função objetivo    \n",
        "    obj = [float(i) for i in linhas[1].split()]\n",
        "    model.objective = xsum(obj[i]*x[i] for i in range(num_v)) \n",
        "\n",
        "    #adicionando os coeficientes    \n",
        "    for c in range (2, num_r+1):\n",
        "      coefientes = []\n",
        "      for i in range(num_v):\n",
        "        coe = float(linhas[c].split()[i])\n",
        "        coefientes.append(coe)\n",
        "        \n",
        "      model += xsum(coefientes[i]*x[i] for i in range(num_v)) <= coefientes[-1] \n",
        "\n",
        "    #diminuindo o tamanho do print\n",
        "    model.verbose = 0\n",
        "\n",
        "    return model"
      ]
    },
    {
      "attachments": {},
      "cell_type": "markdown",
      "metadata": {},
      "source": [
        "Criando a busca"
      ]
    },
    {
      "cell_type": "code",
      "execution_count": 51,
      "metadata": {},
      "outputs": [],
      "source": [
        "#Classe de cada nó do algoritmo, que contém cada modelo:\n",
        "class No:\n",
        "    def __init__(self, modelo : Model):\n",
        "        self.modelo = modelo\n",
        "        self.modelo.optimize()"
      ]
    },
    {
      "cell_type": "code",
      "execution_count": 52,
      "metadata": {},
      "outputs": [],
      "source": [
        "#Classe de cada problema, que contém suas informações:\n",
        "class info_problema:\n",
        "    def __init__ (self, lim_primal : float = float('-inf')):\n",
        "        self.lim_primal = lim_primal"
      ]
    },
    {
      "cell_type": "code",
      "execution_count": 53,
      "metadata": {},
      "outputs": [],
      "source": [
        "#Classe do algoritmo, com funções auxiliares de organização e a de execução:\n",
        "class Branch_and_Bound:\n",
        "    def __init__ (self, no_modelo : No, problema : info_problema):\n",
        "        self.no_modelo = no_modelo\n",
        "        self.problema = problema\n",
        "\n",
        "    #Função para imprimir o resultado de um modelo:\n",
        "    def print_resultado (self, otimo : Model):\n",
        "        lista_dados = []\n",
        "\n",
        "        print (f\"Resultado da otimização: {otimo.objective_value}\\n\")\n",
        "        print (\"Valor das Variáveis:\")\n",
        "        \n",
        "        for var in otimo.vars:\n",
        "            lista_dados.append([var.name, var.x])\n",
        "            #print (f'x_{var.name} = {var.x}')\n",
        "        \n",
        "        saida = pd.DataFrame(data = lista_dados, columns = ['Variável', 'Valor'])\n",
        "        print (saida.to_string(index = False))\n",
        "\n",
        "        return\n",
        "        \n",
        "    #Placeholder até ter o nome das variáveis.\n",
        "    #Gera os dois nós filhos do algoritmo a partir da variável mais próxima de 0,5:\n",
        "    def passar_no (self, pai : Model):\n",
        "        estado = self.no_modelo.optimize()\n",
        "\n",
        "        dif_abs = 1\n",
        "        for var in pai:\n",
        "            if abs (0.5 - var.x) <= dif_abs:\n",
        "                dif_abs = abs (0.5 - var.x)\n",
        "                v_escolhida = var\n",
        "        \n",
        "        no_0 = pai\n",
        "        no_1 = pai\n",
        "\n",
        "        no_0 += v_escolhida.name == 0\n",
        "        no_1 += v_escolhida.name == 1 \n",
        "\n",
        "        return no_0, no_1\n",
        "\n",
        "    #Testa se o nó pode ser podado por limitante:\n",
        "    def podar_limite (self):\n",
        "        if self.no_modelo.modelo.objective_value <= self.problema.lim_primal:\n",
        "            return True\n",
        "        else:\n",
        "            return False\n",
        "\n",
        "    #Testa se o nó pode ser podado por integralidade:\n",
        "    def podar_integral (self):\n",
        "        for var in self.no_modelo.vars:\n",
        "            if var % 1 != 0:\n",
        "                return False\n",
        "\n",
        "        return True   \n",
        "\n",
        "    #Testa se o nó pode ser podado por inviabilidade:\n",
        "    def podar_inviavel (self):\n",
        "\n",
        "        #Inviável:\n",
        "        if self.no_modelo.modelo.status == OptimizationStatus.INFEASIBLE:\n",
        "            return True\n",
        "        \n",
        "        #Não encontrou soluções:\n",
        "        elif self.no_modelo.modelo.status == OptimizationStatus.NO_SOLUTION_FOUND:\n",
        "            return True\n",
        "        \n",
        "        else:\n",
        "            return False\n",
        "    \n",
        "    #Executa o algoritmo de Branch and Bound utilizando uma busca em largura:\n",
        "    def executar_branch_and_bound (self):\n",
        "        fila_modelos = [self.no_modelo.modelo]\n",
        "        solucao = self.no_modelo\n",
        "\n",
        "        while len (fila_modelos):\n",
        "            if self.podar_inviavel:\n",
        "                del fila_modelos[0]\n",
        "                continue\n",
        "            \n",
        "            if self.podar_integral:\n",
        "                if self.problema.lim_primal <= fila_modelos[0].objective_value:\n",
        "                    self.problema.lim_primal = fila_modelos[0].objective_value\n",
        "                    solucao = fila_modelos[0]\n",
        "                del fila_modelos[0]\n",
        "                continue\n",
        "            \n",
        "            if self.podar_limite:\n",
        "                del fila_modelos[0]\n",
        "                continue\n",
        "\n",
        "            no_0, no_1 = self.passar_no(self.no_modelo.modelo)\n",
        "            fila_modelos.append(no_0)\n",
        "            fila_modelos.append(no_1)\n",
        "        \n",
        "        self.print_resultado(solucao.modelo)"
      ]
    },
    {
      "cell_type": "code",
      "execution_count": 54,
      "metadata": {},
      "outputs": [],
      "source": [
        "raiz = No(modelo('./testes/teste1.txt'))"
      ]
    },
    {
      "cell_type": "code",
      "execution_count": 55,
      "metadata": {},
      "outputs": [],
      "source": [
        "problema = info_problema()"
      ]
    },
    {
      "cell_type": "code",
      "execution_count": 56,
      "metadata": {},
      "outputs": [],
      "source": [
        "teste_1 = Branch_and_Bound(raiz, problema)"
      ]
    },
    {
      "cell_type": "code",
      "execution_count": 57,
      "metadata": {},
      "outputs": [
        {
          "name": "stdout",
          "output_type": "stream",
          "text": [
            "Resultado da otimização: 6.0\n",
            "\n",
            "Valor das Variáveis:\n",
            "Variável  Valor\n",
            "     x_0    0.0\n",
            "     x_1    0.0\n",
            "     x_2    0.0\n",
            "     x_3    0.0\n",
            "     x_4    0.0\n",
            "     x_5    0.0\n",
            "     x_6    1.0\n",
            "     x_7    0.0\n"
          ]
        }
      ],
      "source": [
        "teste_1.executar_branch_and_bound()"
      ]
    }
  ],
  "metadata": {
    "colab": {
      "provenance": []
    },
    "kernelspec": {
      "display_name": "Python 3",
      "name": "python3"
    },
    "language_info": {
      "codemirror_mode": {
        "name": "ipython",
        "version": 3
      },
      "file_extension": ".py",
      "mimetype": "text/x-python",
      "name": "python",
      "nbconvert_exporter": "python",
      "pygments_lexer": "ipython3",
      "version": "3.10.6"
    }
  },
  "nbformat": 4,
  "nbformat_minor": 0
}
