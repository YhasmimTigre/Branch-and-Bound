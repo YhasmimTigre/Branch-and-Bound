{
  "nbformat": 4,
  "nbformat_minor": 0,
  "metadata": {
    "colab": {
      "provenance": []
    },
    "kernelspec": {
      "name": "python3",
      "display_name": "Python 3"
    },
    "language_info": {
      "name": "python"
    }
  },
  "cells": [
    {
      "cell_type": "markdown",
      "source": [
        "# Trabalho Final - Pesquisa Operacional <br>\n",
        "## Aplicando Branch-and-Bound\n",
        "\n",
        "\n",
        "Alunos:<br>\n",
        "    João Victor Soares Silva, mat.: 20210027300 <br>\n",
        "    Yhasmim de Souza Tigre, mat.: 20210026966 \n"
      ],
      "metadata": {
        "id": "mZySrJ7nVsOa"
      }
    },
    {
      "cell_type": "markdown",
      "source": [
        "Implementação "
      ],
      "metadata": {
        "id": "68-GKxLmWLSR"
      }
    },
    {
      "cell_type": "code",
      "source": [
        "from mip import *\n",
        "import numpy as np\n",
        "import pandas as pd\n",
        "import sys\n",
        "import math"
      ],
      "metadata": {
        "id": "C2PXPCVcWwmC"
      },
      "execution_count": null,
      "outputs": []
    },
    {
      "cell_type": "markdown",
      "source": [
        " A funcao objetivo sera de maximizacao e todas as restricoes serao de “menor ou igual”\n",
        "\n",
        "O codigo de voces deve ramificar em torno da variavel xj cujo valor seja\n",
        "fracionario e mais proximo de 0,5. Em um filho, adiciona-se a restricao xj = 1; no outro, a restricao xj = 0\n",
        "\n",
        "Vamos usar Busca em Largura"
      ],
      "metadata": {
        "id": "QJyIKtGrYAAO"
      }
    },
    {
      "cell_type": "markdown",
      "source": [
        "* Executar\n",
        "* Testar se as variáveis são binárias\n",
        "* Caso não sejam: percorrer as variáveis e montar uma lista com as variáveis não binárias\n",
        "* Pegar a variável mais próxima de 0,5 e formar mais dois modelos  filhos\n",
        "\n",
        "* Quando encontrar uma solução inteira, guardar para comparar nos próximos modelos filhos (limite dual)"
      ],
      "metadata": {
        "id": "ot9tbVsJZMzA"
      }
    }
  ]
}