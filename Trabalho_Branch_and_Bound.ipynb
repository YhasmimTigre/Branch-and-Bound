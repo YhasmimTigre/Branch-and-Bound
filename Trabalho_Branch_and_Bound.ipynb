{
  "cells": [
    {
      "attachments": {},
      "cell_type": "markdown",
      "metadata": {
        "id": "mZySrJ7nVsOa"
      },
      "source": [
        "# Trabalho Final - Pesquisa Operacional <br>\n",
        "## Aplicando Branch-and-Bound\n",
        "\n",
        "\n",
        "Alunos:<br>\n",
        "    João Victor Soares Silva, mat.: 20210027300 <br>\n",
        "    Yhasmim de Souza Tigre, mat.: 20210026966 \n"
      ]
    },
    {
      "attachments": {},
      "cell_type": "markdown",
      "metadata": {
        "id": "68-GKxLmWLSR"
      },
      "source": [
        "Implementação "
      ]
    },
    {
      "cell_type": "code",
      "execution_count": 1,
      "metadata": {
        "id": "C2PXPCVcWwmC"
      },
      "outputs": [],
      "source": [
        "import mip \n",
        "from mip import *\n",
        "import numpy as np\n",
        "import pandas as pd\n",
        "import sys\n",
        "import math"
      ]
    },
    {
      "attachments": {},
      "cell_type": "markdown",
      "metadata": {
        "id": "QJyIKtGrYAAO"
      },
      "source": [
        " A funcao objetivo sera de maximizacao e todas as restricoes serao de “menor ou igual”\n",
        "\n",
        "O codigo de voces deve ramificar em torno da variavel xj cujo valor seja\n",
        "fracionario e mais proximo de 0,5. Em um filho, adiciona-se a restricao xj = 1; no outro, a restricao xj = 0\n",
        "\n",
        "Vamos usar Busca em Largura"
      ]
    },
    {
      "attachments": {},
      "cell_type": "markdown",
      "metadata": {
        "id": "ot9tbVsJZMzA"
      },
      "source": [
        "* Executar\n",
        "* Testar se as variáveis são binárias\n",
        "* Caso não sejam: percorrer as variáveis e montar uma lista com as variáveis não binárias\n",
        "* Pegar a variável mais próxima de 0,5 e formar mais dois modelos  filhos\n",
        "\n",
        "* Quando encontrar uma solução inteira, guardar para comparar nos próximos modelos filhos (limite dual)"
      ]
    },
    {
      "cell_type": "code",
      "execution_count": null,
      "metadata": {},
      "outputs": [],
      "source": [
        "class NO:\n",
        "    def __init__(self, level, folha, raiz, modelo):\n",
        "        self.level = level\n",
        "        self.folha = folha\n",
        "        self.raiz = raiz\n",
        "        self.modelo = modelo\n",
        "\n",
        "\n",
        "\n",
        "    def Executar_Busca_Largura(modelo):\n",
        "        #modelo de maximização\n",
        "\n"
      ]
    },
    {
      "cell_type": "code",
      "execution_count": null,
      "metadata": {},
      "outputs": [],
      "source": [
        "#Função para criar o modelo (recebido do arquivo)\n",
        "\n",
        "def Criar_Modelo(arquivo):\n",
        "    model = Model(sense=MAX, solver_name=CBC)\n",
        "\n",
        "    #criando as variáveis binárias\n",
        "    x = [model.add_var(var_type=BINARY, name='x_' + str(i+1))\n",
        "                                    for i in range(model)]\n",
        "    \n",
        "    model.objective = x[]\n"
      ]
    },
    {
      "cell_type": "code",
      "execution_count": null,
      "metadata": {},
      "outputs": [],
      "source": [
        "def print_solution(model):\n",
        "  print(\"Status = \", status)\n",
        "  print(\"Solution value  = \", model.objective_value)\n",
        "\n",
        "  print(\"Solution:\")\n",
        "\n",
        "  selected = []\n",
        "  for v in model.vars:\n",
        "      if v.x > 0.00001:\n",
        "          print(v.name, \" = \", v.x)"
      ]
    },
    {
      "cell_type": "code",
      "execution_count": null,
      "metadata": {},
      "outputs": [],
      "source": [
        "#trazer arquivo txt."
      ]
    }
  ],
  "metadata": {
    "colab": {
      "provenance": []
    },
    "kernelspec": {
      "display_name": "Python 3",
      "name": "python3"
    },
    "language_info": {
      "codemirror_mode": {
        "name": "ipython",
        "version": 3
      },
      "file_extension": ".py",
      "mimetype": "text/x-python",
      "name": "python",
      "nbconvert_exporter": "python",
      "pygments_lexer": "ipython3",
      "version": "3.9.5"
    }
  },
  "nbformat": 4,
  "nbformat_minor": 0
}
