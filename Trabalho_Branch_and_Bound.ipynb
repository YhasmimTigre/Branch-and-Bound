{
  "cells": [
    {
      "attachments": {},
      "cell_type": "markdown",
      "metadata": {
        "id": "mZySrJ7nVsOa"
      },
      "source": [
        "# Trabalho Final - Pesquisa Operacional <br>\n",
        "## Aplicando Branch-and-Bound\n",
        "\n",
        "\n",
        "Alunos:<br>\n",
        "    João Victor Soares Silva, mat.: 20210027300 <br>\n",
        "    Yhasmim de Souza Tigre, mat.: 20210026966 \n"
      ]
    },
    {
      "attachments": {},
      "cell_type": "markdown",
      "metadata": {
        "id": "68-GKxLmWLSR"
      },
      "source": [
        "Implementação "
      ]
    },
    {
      "cell_type": "code",
      "execution_count": 2,
      "metadata": {
        "id": "C2PXPCVcWwmC"
      },
      "outputs": [],
      "source": [
        "import mip \n",
        "from mip import (CBC, CONTINUOUS, MAXIMIZE, Model, xsum, OptimizationStatus)\n",
        "import numpy as np\n",
        "import pandas as pd\n",
        "import sys\n",
        "import math"
      ]
    },
    {
      "attachments": {},
      "cell_type": "markdown",
      "metadata": {
        "id": "QJyIKtGrYAAO"
      },
      "source": [
        " A funcao objetivo sera de maximizacao e todas as restricoes serao de “menor ou igual”\n",
        "\n",
        "O codigo de voces deve ramificar em torno da variavel xj cujo valor seja\n",
        "fracionario e mais proximo de 0,5. Em um filho, adiciona-se a restricao xj = 1; no outro, a restricao xj = 0\n",
        "\n",
        "Vamos usar Busca em Largura"
      ]
    },
    {
      "attachments": {},
      "cell_type": "markdown",
      "metadata": {
        "id": "ot9tbVsJZMzA"
      },
      "source": [
        "* Executar\n",
        "* Testar se as variáveis são binárias\n",
        "* Caso não sejam: percorrer as variáveis e montar uma lista com as variáveis não binárias\n",
        "* Pegar a variável mais próxima de 0,5 e formar mais dois modelos  filhos\n",
        "\n",
        "* Quando encontrar uma solução inteira, guardar para comparar nos próximos modelos filhos (limite dual)"
      ]
    },
    {
      "cell_type": "code",
<<<<<<< HEAD
=======

      "execution_count": 17,
      "metadata": {},
      "outputs": [],
      "source": [
        "''' fUNÇÃO QUE APLICA ARQUIVO DE TEXTO EM MODELO\n",
        "           DE PROGRAMAÇÃO LINEAR INTEIRA'''\n",
        "\n",
        "def modelo(arquivo: str):\n",
        "\n",
        "    #lendo arquivo de texto\n",
        "    arquivo = open(arquivo, 'r')\n",
        "\n",
        "    #lendo as linhas do arquivo\n",
        "    linhas = arquivo.readline()\n",
        "\n",
        "    #separando variáveis de restrições\n",
        "    num_v = int(linhas.split()[0])\n",
        "    num_r = int(linhas.split()[1])\n",
        " \n",
        "    arquivo.close()\n",
        "\n",
        "    #criando modelo\n",
        "    model = Model(sense=MAXIMIZE, solver_name=CBC)\n",
        "\n",
        "    #criando variáveis\n",
        "    x = [model.add_var( var_type=CONTINUOUS, lb=0.0, ub=1.0,\n",
        "         name=\"x_\"+str(i)) for i in range(num_v)]    \n",
        "       \n",
        "    coe = [float(c) for c in linhas.split()]\n",
        "    #função objetivo \n",
        "    model.objective = xsum(coe[i]*x[i] for i in range(num_v))\n",
        "   \n",
        "    \n",
        "    "
      ]
    },
    {
      "cell_type": "code",
      "execution_count": 18,
      "metadata": {},
      "outputs": [
        {
          "name": "stdout",
          "output_type": "stream",
          "text": [
            "7\n",
            "11\n",
            "7 11\n",
            "\n"
          ]
        },
        {
          "ename": "IndexError",
          "evalue": "list index out of range",
          "output_type": "error",
          "traceback": [
            "\u001b[1;31m---------------------------------------------------------------------------\u001b[0m",
            "\u001b[1;31mIndexError\u001b[0m                                Traceback (most recent call last)",
            "\u001b[1;32mc:\\Users\\Yhasmim\\Desktop\\Ciência de Dados\\Cadeiras 2021.1\\4 periodo\\Pesquisa Operacional\\terceira-nota-PO\\Branch-and-Bound\\Trabalho_Branch_and_Bound.ipynb Cell 7\u001b[0m in \u001b[0;36m<cell line: 1>\u001b[1;34m()\u001b[0m\n\u001b[1;32m----> <a href='vscode-notebook-cell:/c%3A/Users/Yhasmim/Desktop/Ci%C3%AAncia%20de%20Dados/Cadeiras%202021.1/4%20periodo/Pesquisa%20Operacional/terceira-nota-PO/Branch-and-Bound/Trabalho_Branch_and_Bound.ipynb#X13sZmlsZQ%3D%3D?line=0'>1</a>\u001b[0m teste \u001b[39m=\u001b[39m modelo(\u001b[39m\"\u001b[39;49m\u001b[39m./testes/teste1.txt\u001b[39;49m\u001b[39m\"\u001b[39;49m)\n\u001b[0;32m      <a href='vscode-notebook-cell:/c%3A/Users/Yhasmim/Desktop/Ci%C3%AAncia%20de%20Dados/Cadeiras%202021.1/4%20periodo/Pesquisa%20Operacional/terceira-nota-PO/Branch-and-Bound/Trabalho_Branch_and_Bound.ipynb#X13sZmlsZQ%3D%3D?line=1'>2</a>\u001b[0m teste\n",
            "\u001b[1;32mc:\\Users\\Yhasmim\\Desktop\\Ciência de Dados\\Cadeiras 2021.1\\4 periodo\\Pesquisa Operacional\\terceira-nota-PO\\Branch-and-Bound\\Trabalho_Branch_and_Bound.ipynb Cell 7\u001b[0m in \u001b[0;36mmodelo\u001b[1;34m(arquivo)\u001b[0m\n\u001b[0;32m     <a href='vscode-notebook-cell:/c%3A/Users/Yhasmim/Desktop/Ci%C3%AAncia%20de%20Dados/Cadeiras%202021.1/4%20periodo/Pesquisa%20Operacional/terceira-nota-PO/Branch-and-Bound/Trabalho_Branch_and_Bound.ipynb#X13sZmlsZQ%3D%3D?line=27'>28</a>\u001b[0m coe \u001b[39m=\u001b[39m [\u001b[39mfloat\u001b[39m(c) \u001b[39mfor\u001b[39;00m c \u001b[39min\u001b[39;00m linhas\u001b[39m.\u001b[39msplit()]\n\u001b[0;32m     <a href='vscode-notebook-cell:/c%3A/Users/Yhasmim/Desktop/Ci%C3%AAncia%20de%20Dados/Cadeiras%202021.1/4%20periodo/Pesquisa%20Operacional/terceira-nota-PO/Branch-and-Bound/Trabalho_Branch_and_Bound.ipynb#X13sZmlsZQ%3D%3D?line=28'>29</a>\u001b[0m \u001b[39m#função objetivo \u001b[39;00m\n\u001b[1;32m---> <a href='vscode-notebook-cell:/c%3A/Users/Yhasmim/Desktop/Ci%C3%AAncia%20de%20Dados/Cadeiras%202021.1/4%20periodo/Pesquisa%20Operacional/terceira-nota-PO/Branch-and-Bound/Trabalho_Branch_and_Bound.ipynb#X13sZmlsZQ%3D%3D?line=29'>30</a>\u001b[0m model\u001b[39m.\u001b[39mobjective \u001b[39m=\u001b[39m xsum(coe[i]\u001b[39m*\u001b[39;49mx[i] \u001b[39mfor\u001b[39;49;00m i \u001b[39min\u001b[39;49;00m \u001b[39mrange\u001b[39;49m(num_v))\n",
            "File \u001b[1;32mc:\\Users\\Yhasmim\\miniconda3\\lib\\site-packages\\mip\\model.py:1561\u001b[0m, in \u001b[0;36mxsum\u001b[1;34m(terms)\u001b[0m\n\u001b[0;32m   1549\u001b[0m \u001b[39m\"\"\"\u001b[39;00m\n\u001b[0;32m   1550\u001b[0m \u001b[39mFunction that should be used to create a linear expression from a\u001b[39;00m\n\u001b[0;32m   1551\u001b[0m \u001b[39msummation. While the python function sum() can also be used, this\u001b[39;00m\n\u001b[1;32m   (...)\u001b[0m\n\u001b[0;32m   1558\u001b[0m \u001b[39m:rtype: mip.LinExpr\u001b[39;00m\n\u001b[0;32m   1559\u001b[0m \u001b[39m\"\"\"\u001b[39;00m\n\u001b[0;32m   1560\u001b[0m result \u001b[39m=\u001b[39m mip\u001b[39m.\u001b[39mLinExpr()\n\u001b[1;32m-> 1561\u001b[0m \u001b[39mfor\u001b[39;00m term \u001b[39min\u001b[39;00m terms:\n\u001b[0;32m   1562\u001b[0m     result\u001b[39m.\u001b[39madd_term(term)\n\u001b[0;32m   1563\u001b[0m \u001b[39mreturn\u001b[39;00m result\n",
            "\u001b[1;32mc:\\Users\\Yhasmim\\Desktop\\Ciência de Dados\\Cadeiras 2021.1\\4 periodo\\Pesquisa Operacional\\terceira-nota-PO\\Branch-and-Bound\\Trabalho_Branch_and_Bound.ipynb Cell 7\u001b[0m in \u001b[0;36m<genexpr>\u001b[1;34m(.0)\u001b[0m\n\u001b[0;32m     <a href='vscode-notebook-cell:/c%3A/Users/Yhasmim/Desktop/Ci%C3%AAncia%20de%20Dados/Cadeiras%202021.1/4%20periodo/Pesquisa%20Operacional/terceira-nota-PO/Branch-and-Bound/Trabalho_Branch_and_Bound.ipynb#X13sZmlsZQ%3D%3D?line=27'>28</a>\u001b[0m coe \u001b[39m=\u001b[39m [\u001b[39mfloat\u001b[39m(c) \u001b[39mfor\u001b[39;00m c \u001b[39min\u001b[39;00m linhas\u001b[39m.\u001b[39msplit()]\n\u001b[0;32m     <a href='vscode-notebook-cell:/c%3A/Users/Yhasmim/Desktop/Ci%C3%AAncia%20de%20Dados/Cadeiras%202021.1/4%20periodo/Pesquisa%20Operacional/terceira-nota-PO/Branch-and-Bound/Trabalho_Branch_and_Bound.ipynb#X13sZmlsZQ%3D%3D?line=28'>29</a>\u001b[0m \u001b[39m#função objetivo \u001b[39;00m\n\u001b[1;32m---> <a href='vscode-notebook-cell:/c%3A/Users/Yhasmim/Desktop/Ci%C3%AAncia%20de%20Dados/Cadeiras%202021.1/4%20periodo/Pesquisa%20Operacional/terceira-nota-PO/Branch-and-Bound/Trabalho_Branch_and_Bound.ipynb#X13sZmlsZQ%3D%3D?line=29'>30</a>\u001b[0m model\u001b[39m.\u001b[39mobjective \u001b[39m=\u001b[39m xsum(coe[i]\u001b[39m*\u001b[39mx[i] \u001b[39mfor\u001b[39;00m i \u001b[39min\u001b[39;00m \u001b[39mrange\u001b[39m(num_v))\n",
            "\u001b[1;31mIndexError\u001b[0m: list index out of range"
          ]
        }
      ],
      "source": [
        "teste = modelo(\"./testes/teste1.txt\")\n",
        "teste"
=======
>>>>>>> 752d0f0252360b707be93a7a4391f6cd5c0714d7
      "execution_count": 4,
      "metadata": {},
      "outputs": [],
      "source": [
        "#Classe de cada nó do algoritmo, que contém cada modelo:\n",
        "class No:\n",
        "    def __init__(self, modelo : Model):\n",
        "        self.modelo = modelo\n",
        "        self.estado = self.modelo.optimize()"

      ]
    },
    {
      "cell_type": "code",
      "execution_count": 5,
      "metadata": {},
      "outputs": [],
      "source": [

        "class NO:\n",
        "    def __init__(self, level, folha, raiz, modelo):\n",
        "        self.level = level\n",
        "        self.folha = folha\n",
        "        self.raiz = raiz\n",
        "        self.modelo = modelo\n",
        "\n",
        "\n",
        "\n",
        "    def Executar_Busca_Largura(modelo):\n",
        "        #modelo de maximização\n",
        "\n"
=======
        "#Classe de cada problema, que contém suas informações:\n",
        "class info_problema:\n",
        "    def __init__ (self, lim_dual : float, lim_primal : float = float('-inf')):\n",
        "        self.lim_dual = lim_dual\n",
        "        self.lim_primal = lim_primal"

      ]
    },
    {
      "cell_type": "code",
      "execution_count": null,
      "metadata": {},
      "outputs": [],
      "source": [
        "#Classe do algoritmo, com funções auxiliares de organização e a de execução:\n",
        "class Branch_and_Bound:\n",
        "    def __init__ (self, no_modelo : Model, problema : info_problema):\n",
        "        self.no_modelo = no_modelo\n",
        "        self.problema = problema\n",
        "\n",
        "    #Função para imprimir o resultado de um modelo:\n",
        "    def print_resultado (self):\n",
        "        print (f\"Resultado da otimização: {self.no_modelo.objective_value}\\n\")\n",
        "        print (\"Valor das Variáveis:\\n\")\n",
        "        '''\n",
        "        for var in self.no_modelo.vars:\n",
        "            return\n",
        "            print (f'X_{var.name} = {var.x}') #Placeholder até ter o nome das variáveis.\n",
        "        '''\n",
        "\n",
        "    '''\n",
        "    #Placeholder até ter o nome das variáveis.\n",
        "    #Gera os dois nós filhos do algoritmo a partir da variável mais próxima de 0,5:\n",
        "    def passar_no (self):\n",
        "        estado = self.no_modelo.optimize()\n",
        "        dif_abs = 1\n",
        "\n",
        "        for var in self.no_modelo.vars:\n",
        "            if abs (0.5 - var) <= dif_abs:\n",
        "                dif_abs = abs (0.5 - var)\n",
        "    '''\n",
        "\n",
        "    #Testa se o nó pode ser podado por limitante:\n",
        "    def podar_limite (self):\n",
        "        if self.no_modelo.objective_value <= self.problema.lim_primal:\n",
        "            return True\n",
        "        else:\n",
        "            return False\n",
        "\n",
        "    #Testa se o nó pode ser podado por integralidade:\n",
        "    def podar_integral (self):\n",
        "        for var in self.no_modelo.vars:\n",
        "            if var % 1 != 0:\n",
        "                return False\n",
        "\n",
        "        return True   \n",
        "\n",
        "    #Testa se o nó pode ser podado por inviabilidade:\n",
        "    def podar_inviavel (self):\n",
        "        estado = self.no_modelo.optimize()\n",
        "\n",
        "        #Inviável:\n",
        "        if estado == OptimizationStatus.INFEASIBLE:\n",
        "            return True\n",
        "        \n",
        "        #Não encontrou soluções:\n",
        "        elif estado == OptimizationStatus.NO_SOLUTION_FOUND:\n",
        "            return True\n",
        "        \n",
        "        else:\n",
        "            return False\n",
        "    \n",
        "    #Executa o algoritmo de Branch and Bound utilizando uma busca em largura:\n",
        "    def executar_branch_and_bound (self):\n",
        "        fila_modelos = [self.no_modelo]\n",
        "        solucao = self.no_modelo\n",
        "\n",
        "        while len (fila_modelos):\n",
        "\n",
        "            if self.podar_inviavel:\n",
        "                del fila_modelos[0]\n",
        "            \n",
        "            if self.podar_integral:\n",
        "                self.problema.lim_primal = fila_modelos[0].objective_value\n",
        "                solucao = fila_modelos[0]\n",
        "                del fila_modelos[0]\n",
        "            \n",
        "            if self.podar_limite:\n",
        "                del fila_modelos[0]"
      ]
    }
  ],
  "metadata": {
    "colab": {
      "provenance": []
    },
    "kernelspec": {
      "display_name": "Python 3",
      "name": "python3"
    },
    "language_info": {
      "codemirror_mode": {
        "name": "ipython",
        "version": 3
      },
      "file_extension": ".py",
      "mimetype": "text/x-python",
      "name": "python",
      "nbconvert_exporter": "python",
      "pygments_lexer": "ipython3",
      "version": "3.10.6"
    }
  },
  "nbformat": 4,
  "nbformat_minor": 0
}
